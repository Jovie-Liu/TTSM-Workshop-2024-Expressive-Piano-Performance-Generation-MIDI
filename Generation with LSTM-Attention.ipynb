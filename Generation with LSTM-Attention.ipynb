{
 "cells": [
  {
   "cell_type": "markdown",
   "metadata": {},
   "source": [
    "***\n",
    "*Project:* Expressive Piano Generation\n",
    "\n",
    "*Author:* Jingwei Liu (Music department, UC San Diego)\n",
    "***\n",
    "\n",
    "# <span style=\"background-color:darkorange; color:white; padding:2px 6px\">Software & ReadMe</span> \n",
    "\n",
    "\n",
    "# Expressive Piano Performance Generation (MIDI Format)\n",
    "\n",
    "## 1. Audio vs. MIDI\n",
    "\n",
    "- The music scene is shifted towards audio based composition and production, thus symbolic music generation is marginalized.\n",
    "\n",
    "- Symbolic music is frequently criticized for its stiffness and non-flexibility in generating listening-based music.\n",
    "\n",
    "- We argue that, **under the same expressivity of music replay, MIDI as a much more concise representation has advantage over the raw audio format in generation models**.\n",
    "\n",
    "## 2. Listening-based Data Processing\n",
    "\n",
    "- **Abandonment of fixed grid.** Use time-shift events and duration measured in miliseconds to generate expressive timing.\n",
    "\n",
    "- A homogeneous treatment of monophony and polyphony. We claim that there is no real simultaneity of notes. For any two notes that are played by a human performer, there is always a time discrepancy between them, no matter how unnoticeable it is. It means that, since there are no simultaneous events, **we can always place the notes in sequential order, by their time onsets.**\n",
    "\n",
    "- Not only the notes matter. **The control events in MIDI may play a crucial role in musical expressivity** (eg. sustain pedal in piano generation). Please listen to \"Original.MID\" and \"no_sustain.mid\" for comparison.\n",
    "\n",
    "- Mel quantization of auditory features. Instead of equal division, like the Mel spectrogram, we divide the ranges into uneven chunks to better reflect the perceptual truth. We refer to **Weber’s law** for just noticeable differences as our theoretical foundation for the divisions, where the noticeable difference is proportional to the current value.\n",
    "\n",
    "<img src=\"division_1.png\" style=\"width:800px\">\n",
    "<caption><center> Figure 1. The categorical distributions for given input features. The divisions obey Weber's law where the perceptual changes are proportional to the values. </center></caption>"
   ]
  },
  {
   "cell_type": "markdown",
   "metadata": {},
   "source": [
    "## 3. Multi-argument Sequential Model\n",
    "\n",
    "<img src=\"LSTM-ATT_2.jpg\" style=\"width:800px\">\n",
    "<caption><center> Figure 2. LSTM-Attention cell. A recurrent neural network designed for Multi-input-output generative system. </center></caption>"
   ]
  },
  {
   "cell_type": "markdown",
   "metadata": {},
   "source": [
    "### Instructions\n",
    "Please install [Jupyter notebook](https://jupyter.org/install) and run the following code block by block. The generation is in the traditional sense:\n",
    "\n",
    "User inputs: \n",
    "- Initial note or sequence, numpy array of shape (5, num_notes)\n",
    "- Number of notes for generation, an integer\n",
    "\n",
    "The model will take in the initial array and generate continuation for it for a given length. The final output is a MIDI file that's ready to be played at any DAWs.\n",
    "\n",
    "**[Important]**: The MIDI file contains not only note events but also control events that specify the sustain pedal status. Please use `Ableton Live` or any quality DAW to play the file and use the instrument \"grand/classical piano\". The dataset is collected by the performances on Yamaha grand pianos. Please do not use any notational software such as `MuseScore` that quantizes inputs and eliminates control information."
   ]
  },
  {
   "cell_type": "code",
   "execution_count": 1,
   "metadata": {},
   "outputs": [],
   "source": [
    "import numpy as np\n",
    "import pandas as pd\n",
    "import py_midicsv as pm\n",
    "import torch\n",
    "import utils as ut"
   ]
  },
  {
   "cell_type": "markdown",
   "metadata": {},
   "source": [
    "If you cannot import any packages from this block, please make sure that you installed them at the right place. `numpy`, `pandas`, `torch` are standard Python packages that're widely used; `py_midicsv` is a package online that converts MIDI and CSV formats, please [search and install it](https://pypi.org/project/py-midicsv/); `utils` is a Python file containing developer-defined functions, which is included in the same folder."
   ]
  },
  {
   "cell_type": "code",
   "execution_count": 2,
   "metadata": {},
   "outputs": [],
   "source": [
    "# Load default values\n",
    "note_tp, p_note, up, down, e_time, time_ratio, ts_division, dur_division, vel_division = ut.default_terms()\n",
    "example = np.load('generate_condition.npy')\n",
    "Example_index = ut.process_input(example, note_tp, p_note, up, down, e_time, time_ratio, ts_division, dur_division, vel_division)\n",
    "\n",
    "d_an = 100\n",
    "d_ad = 140\n",
    "d_av = 50\n",
    "d_at = 110\n",
    "d_xn = 88\n",
    "d_xd = 120\n",
    "d_xv = 47\n",
    "d_xt = 105\n",
    "d_c = 350\n",
    "\n",
    "parameters = torch.load('parameters.pt',weights_only=True)\n",
    "for i in range(len(parameters)):\n",
    "    parameters[i] = parameters[i].detach().to(\"cpu\")\n",
    "[W_fa, W_fx, b_f, W_ua, W_ux, b_u, W_ca, W_cx, b_c, W_n, b_n, W_d, b_d, W_v, b_v, W_t, b_t, \n",
    " K_n, A_n, K_d, A_d, K_v, A_v, K_t, A_t, W_yan_tld, b_yn, W_yad_tld, b_yd, \n",
    "W_yav_tld, b_yv, W_yat_tld, b_yt, W_pedal, b_pedal] = parameters"
   ]
  },
  {
   "cell_type": "markdown",
   "metadata": {},
   "source": [
    "### Initial Sequence\n",
    "\n",
    "The generation can start with a note or arbitrary length of melody (monophonic or polyphonic). All it needs is the 5 values associated with each note. The initial input should be given as **a numpy array of shape (5, num_notes)** with each subsequent column slice representing a note in non-decreasing time onset manner. The 5 defining features are:\n",
    "\n",
    "- [row 0] Note value (n): a MIDI note number in range $[21,108]$, e.g. 56\n",
    "- [row 1] Duration_ms (d): duration of the note in miliseconds, e.g. 35\n",
    "- [row 2] Velocity (v): a number in range $[0,127]$, the MIDI default velocity representation, e.g. 100\n",
    "- [row 3] Time shift (t): the onset difference between two subsequent note in miliseconds, $t = 0$ gives perfectly simultaneous notes, e.g. 0\n",
    "- [row 4] Sustain pedal (p): the status of the sustain pedal, with binary value on/off (1/0), e.g. 1\n",
    "\n",
    "A note at position $i$ with these examplary values will look like\n",
    "\n",
    "$$\n",
    "\\mathbf{I}[:,i] = \n",
    "\\begin{pmatrix}\n",
    "56 \\\\\n",
    "35 \\\\\n",
    "100 \\\\\n",
    "0 \\\\\n",
    "1\n",
    "\\end{pmatrix}\n",
    "$$"
   ]
  },
  {
   "cell_type": "markdown",
   "metadata": {},
   "source": [
    "The input can be a single note or a conditional melody (a sequence of notes). For convenience, the user can generate a random note with `ut.initial_notes(\"random note\", 0, 0, 0)` or an initial sequence from a chosen example with `ut.initial_notes(\"melody\", n, m, example)`, where the sequence is chopped from note $n$ to $m$ in the exemplary piece."
   ]
  },
  {
   "cell_type": "code",
   "execution_count": 35,
   "metadata": {},
   "outputs": [],
   "source": [
    "input_type = \"random note\" # choose from \"random note\" and \"melody\"\n",
    "n = 0                # start position for melody\n",
    "m = 10               # end position for melody"
   ]
  },
  {
   "cell_type": "code",
   "execution_count": 36,
   "metadata": {},
   "outputs": [],
   "source": [
    "Input = ut.initial_notes(input_type, n,m, example)"
   ]
  },
  {
   "cell_type": "code",
   "execution_count": 37,
   "metadata": {},
   "outputs": [
    {
     "data": {
      "text/plain": [
       "array([[44],\n",
       "       [62],\n",
       "       [61],\n",
       "       [ 0],\n",
       "       [ 1]])"
      ]
     },
     "execution_count": 37,
     "metadata": {},
     "output_type": "execute_result"
    }
   ],
   "source": [
    "Input"
   ]
  },
  {
   "cell_type": "code",
   "execution_count": 38,
   "metadata": {},
   "outputs": [],
   "source": [
    "# set initial memory type for the single note: c = 0 or c = some random value\n",
    "init_type = \"random_init\"   # Choose from \"zero_init\" and \"random_init\""
   ]
  },
  {
   "cell_type": "code",
   "execution_count": 39,
   "metadata": {},
   "outputs": [],
   "source": [
    "Input_index = ut.process_input(Input, note_tp, p_note, up, down, e_time, time_ratio, ts_division, dur_division, vel_division)\n",
    "c0 = ut.prev_pass(d_c,d_xn,d_xd,d_xv,d_xt,Example_index,\"melody\", \"zero_init\",m,\n",
    "                 W_fa, W_fx, b_f, W_ua, W_ux, b_u, W_ca, W_cx, b_c, W_n, b_n, W_d, b_d, W_v, b_v, W_t, b_t)"
   ]
  },
  {
   "cell_type": "markdown",
   "metadata": {},
   "source": [
    "### Generate New Sequence"
   ]
  },
  {
   "cell_type": "code",
   "execution_count": 25,
   "metadata": {},
   "outputs": [],
   "source": [
    "temperature = 1"
   ]
  },
  {
   "cell_type": "markdown",
   "metadata": {},
   "source": [
    "This parameter can control the randomness of the generation: \n",
    "- temperature -> oo, uniform distribution; \n",
    "- temperature -> 0, dirac delta distribution"
   ]
  },
  {
   "cell_type": "code",
   "execution_count": 26,
   "metadata": {},
   "outputs": [],
   "source": [
    "dur_division = np.append(dur_division, 40395)\n",
    "vel_division = np.append(vel_division, 110)\n",
    "ts_division = np.append(ts_division, 35000)"
   ]
  },
  {
   "cell_type": "code",
   "execution_count": 27,
   "metadata": {},
   "outputs": [],
   "source": [
    "num = 1000 # number of notes to generate"
   ]
  },
  {
   "cell_type": "code",
   "execution_count": 28,
   "metadata": {},
   "outputs": [],
   "source": [
    "# generate sequence\n",
    "Generation = np.zeros((5,num),dtype = int)\n",
    "[x_n, x_d, x_v, x_t,pedal] = Input_index[:,-1]\n",
    "transit = 0\n",
    "vel = Input[2,-1]\n",
    "c_prev = c0\n",
    "for i in range(num):\n",
    "    c, x_n_nxt, x_d_nxt, x_v_nxt, x_t_nxt = ut.generate_step(d_xn,d_xd,d_xv,d_xt,x_n, x_d, x_v, x_t, pedal, c_prev,\n",
    "                 W_fa, W_fx, b_f, W_ua, W_ux, b_u, W_ca, W_cx, b_c, W_n, b_n, W_d, b_d, W_v, b_v, W_t, b_t,\n",
    "                 K_n, A_n, K_d, A_d, K_v, A_v, K_t, A_t,\n",
    "                 W_yan_tld, b_yn, W_yad_tld, b_yd, W_yav_tld, b_yv,W_yat_tld, b_yt,temperature)\n",
    "    \n",
    "    c_prev = c\n",
    "    [x_n, x_d, x_v, x_t] = [x_n_nxt, x_d_nxt, x_v_nxt, x_t_nxt]\n",
    "    \n",
    "    note = x_n_nxt + 21\n",
    "    dur = np.random.choice(np.arange(dur_division[x_d_nxt],dur_division[x_d_nxt+1]))\n",
    "    vel_change = np.random.choice(np.arange(vel_division[x_v_nxt],vel_division[x_v_nxt+1]))\n",
    "    vel = np.clip(vel + vel_change,20,120)\n",
    "    ts = np.random.choice(np.arange(ts_division[x_t_nxt],ts_division[x_t_nxt+1]))\n",
    "    transit = transit + ts\n",
    "    if transit > 20:\n",
    "        y_p = torch.sigmoid(torch.matmul(W_pedal,c) + b_pedal)\n",
    "        pedal = np.random.choice(2,p=[1-y_p.item(),y_p.item()])\n",
    "        transit = 0\n",
    "    Generation[:,i] = np.array([note, dur, vel, ts, pedal])"
   ]
  },
  {
   "cell_type": "code",
   "execution_count": 29,
   "metadata": {},
   "outputs": [
    {
     "data": {
      "text/plain": [
       "array([[ 73,  69,  64, ...,  44,  52,  56],\n",
       "       [ 67,  55,  68, ...,  31,  48,  55],\n",
       "       [ 73,  20,  75, ..., 120, 112, 110],\n",
       "       [ 60, 126,  35, ...,   8,   6,   4],\n",
       "       [  1,   1,   1, ...,   1,   1,   1]])"
      ]
     },
     "execution_count": 29,
     "metadata": {},
     "output_type": "execute_result"
    }
   ],
   "source": [
    "Generation"
   ]
  },
  {
   "cell_type": "code",
   "execution_count": 30,
   "metadata": {},
   "outputs": [
    {
     "data": {
      "text/plain": [
       "array([[ 80,  68,  56, ...,  44,  52,  56],\n",
       "       [170, 114,  53, ...,  31,  48,  55],\n",
       "       [ 91,  87,  80, ..., 120, 112, 110],\n",
       "       [  0,   4,  12, ...,   8,   6,   4],\n",
       "       [  1,   1,   1, ...,   1,   1,   1]])"
      ]
     },
     "execution_count": 30,
     "metadata": {},
     "output_type": "execute_result"
    }
   ],
   "source": [
    "Output = np.concatenate((Input,Generation),axis=1)\n",
    "Output"
   ]
  },
  {
   "cell_type": "code",
   "execution_count": 31,
   "metadata": {},
   "outputs": [
    {
     "data": {
      "text/plain": [
       "1100"
      ]
     },
     "execution_count": 31,
     "metadata": {},
     "output_type": "execute_result"
    }
   ],
   "source": [
    "Output.shape[1]"
   ]
  },
  {
   "cell_type": "markdown",
   "metadata": {},
   "source": [
    "### Write to MIDI file"
   ]
  },
  {
   "cell_type": "code",
   "execution_count": 32,
   "metadata": {},
   "outputs": [
    {
     "data": {
      "text/html": [
       "<div>\n",
       "<style scoped>\n",
       "    .dataframe tbody tr th:only-of-type {\n",
       "        vertical-align: middle;\n",
       "    }\n",
       "\n",
       "    .dataframe tbody tr th {\n",
       "        vertical-align: top;\n",
       "    }\n",
       "\n",
       "    .dataframe thead th {\n",
       "        text-align: right;\n",
       "    }\n",
       "</style>\n",
       "<table border=\"1\" class=\"dataframe\">\n",
       "  <thead>\n",
       "    <tr style=\"text-align: right;\">\n",
       "      <th></th>\n",
       "      <th>Time</th>\n",
       "      <th>Type</th>\n",
       "      <th>Note</th>\n",
       "      <th>Velocity</th>\n",
       "    </tr>\n",
       "  </thead>\n",
       "  <tbody>\n",
       "    <tr>\n",
       "      <th>0</th>\n",
       "      <td>0</td>\n",
       "      <td>Note_on_c</td>\n",
       "      <td>80</td>\n",
       "      <td>91</td>\n",
       "    </tr>\n",
       "    <tr>\n",
       "      <th>1</th>\n",
       "      <td>0</td>\n",
       "      <td>Control_c</td>\n",
       "      <td>64</td>\n",
       "      <td>127</td>\n",
       "    </tr>\n",
       "    <tr>\n",
       "      <th>2</th>\n",
       "      <td>4</td>\n",
       "      <td>Note_on_c</td>\n",
       "      <td>68</td>\n",
       "      <td>87</td>\n",
       "    </tr>\n",
       "    <tr>\n",
       "      <th>3</th>\n",
       "      <td>16</td>\n",
       "      <td>Note_on_c</td>\n",
       "      <td>56</td>\n",
       "      <td>80</td>\n",
       "    </tr>\n",
       "    <tr>\n",
       "      <th>4</th>\n",
       "      <td>25</td>\n",
       "      <td>Note_on_c</td>\n",
       "      <td>44</td>\n",
       "      <td>78</td>\n",
       "    </tr>\n",
       "    <tr>\n",
       "      <th>...</th>\n",
       "      <td>...</td>\n",
       "      <td>...</td>\n",
       "      <td>...</td>\n",
       "      <td>...</td>\n",
       "    </tr>\n",
       "    <tr>\n",
       "      <th>2212</th>\n",
       "      <td>114224</td>\n",
       "      <td>Note_off_c</td>\n",
       "      <td>44</td>\n",
       "      <td>0</td>\n",
       "    </tr>\n",
       "    <tr>\n",
       "      <th>2213</th>\n",
       "      <td>114247</td>\n",
       "      <td>Note_off_c</td>\n",
       "      <td>52</td>\n",
       "      <td>0</td>\n",
       "    </tr>\n",
       "    <tr>\n",
       "      <th>2214</th>\n",
       "      <td>114258</td>\n",
       "      <td>Note_off_c</td>\n",
       "      <td>56</td>\n",
       "      <td>0</td>\n",
       "    </tr>\n",
       "    <tr>\n",
       "      <th>2215</th>\n",
       "      <td>114297</td>\n",
       "      <td>Note_off_c</td>\n",
       "      <td>76</td>\n",
       "      <td>0</td>\n",
       "    </tr>\n",
       "    <tr>\n",
       "      <th>2216</th>\n",
       "      <td>114321</td>\n",
       "      <td>Note_off_c</td>\n",
       "      <td>40</td>\n",
       "      <td>0</td>\n",
       "    </tr>\n",
       "  </tbody>\n",
       "</table>\n",
       "<p>2217 rows × 4 columns</p>\n",
       "</div>"
      ],
      "text/plain": [
       "        Time        Type Note Velocity\n",
       "0          0   Note_on_c   80       91\n",
       "1          0   Control_c   64      127\n",
       "2          4   Note_on_c   68       87\n",
       "3         16   Note_on_c   56       80\n",
       "4         25   Note_on_c   44       78\n",
       "...      ...         ...  ...      ...\n",
       "2212  114224  Note_off_c   44        0\n",
       "2213  114247  Note_off_c   52        0\n",
       "2214  114258  Note_off_c   56        0\n",
       "2215  114297  Note_off_c   76        0\n",
       "2216  114321  Note_off_c   40        0\n",
       "\n",
       "[2217 rows x 4 columns]"
      ]
     },
     "execution_count": 32,
     "metadata": {},
     "output_type": "execute_result"
    }
   ],
   "source": [
    "time = np.cumsum(Output[3,:])\n",
    "MIDI_format = pd.DataFrame(columns=['Time','Type','Note','Velocity'])\n",
    "pedal = 0\n",
    "for i in range(Output.shape[1]):\n",
    "    MIDI_format = pd.concat([MIDI_format, pd.DataFrame([{'Time': time[i],\n",
    "                         'Type': 'Note_on_c',\n",
    "                         'Note': Output[0,i],\n",
    "                         'Velocity': Output[2,i]}])], ignore_index=True)\n",
    "    MIDI_format = pd.concat([MIDI_format, pd.DataFrame([{'Time': (time[i] + Output[1,i]),\n",
    "                         'Type': 'Note_off_c',\n",
    "                         'Note': Output[0,i],\n",
    "                         'Velocity': 0}])], ignore_index=True)\n",
    "    if Output[4,i] != pedal:\n",
    "        pedal = Output[4,i]\n",
    "        if i == 0:\n",
    "            MIDI_format = pd.concat([MIDI_format, pd.DataFrame([{'Time': time[i],\n",
    "                                 'Type': 'Control_c',\n",
    "                                 'Note': 64,\n",
    "                                 'Velocity': pedal*127}])], ignore_index=True)\n",
    "        else:\n",
    "            MIDI_format = pd.concat([MIDI_format, pd.DataFrame([{'Time': np.random.choice(np.arange(time[i-1],time[i])),\n",
    "                                 'Type': 'Control_c',\n",
    "                                 'Note': 64,\n",
    "                                 'Velocity': pedal*127}])], ignore_index=True)\n",
    "MIDI_format = MIDI_format.sort_values('Time')\n",
    "MIDI_format = MIDI_format.reset_index(drop=True)\n",
    "MIDI_format"
   ]
  },
  {
   "cell_type": "code",
   "execution_count": 33,
   "metadata": {},
   "outputs": [],
   "source": [
    "generated_csv = open(\"midi.csv\", 'w')\n",
    "generated_csv.write(\"0,0,Header,0,1,480\\n\")\n",
    "generated_csv.write(\"1,0,Start_track\\n\")\n",
    "generated_csv.write(\"1,0,Tempo,480000\\n\")\n",
    "generated_csv.write(\"1,0,Program_c, 0, 0\\n\")\n",
    "\n",
    "for i in range(len(MIDI_format)):\n",
    "    generated_csv.write(\"1,\"+str(MIDI_format['Time'][i])+\",\"+ MIDI_format['Type'][i] +\",0,\"+str(MIDI_format['Note'][i])+\",\"+str(MIDI_format['Velocity'][i])+\"\\n\")\n",
    "    \n",
    "end_time = MIDI_format['Time'][i] + 480\n",
    "generated_csv.write(\"1,\" + str(end_time) +\", End_track\\n\")\n",
    "generated_csv.write(\"0, 0, End_of_file\")\n",
    "generated_csv.close()"
   ]
  },
  {
   "cell_type": "code",
   "execution_count": 34,
   "metadata": {},
   "outputs": [],
   "source": [
    "# Parse the CSV output of the previous command back into a MIDI file\n",
    "midi_object = pm.csv_to_midi(\"midi.csv\")\n",
    "\n",
    "# Save the parsed MIDI file to disk\n",
    "with open(\"C://Users/79244/Desktop/generated_lstm.mid\", \"wb\") as output_file:\n",
    "# with open(\"generated_note_55_61_42_0_0_zero.mid\", \"wb\") as output_file:\n",
    "    midi_writer = pm.FileWriter(output_file)\n",
    "    midi_writer.write(midi_object)"
   ]
  },
  {
   "cell_type": "markdown",
   "metadata": {},
   "source": [
    "Now you can find the generated MIDI file in the same folder as this notebook. Just import it to a DAW and play (as grand piano)!"
   ]
  }
 ],
 "metadata": {
  "kernelspec": {
   "display_name": "Python 3 (ipykernel)",
   "language": "python",
   "name": "python3"
  },
  "language_info": {
   "codemirror_mode": {
    "name": "ipython",
    "version": 3
   },
   "file_extension": ".py",
   "mimetype": "text/x-python",
   "name": "python",
   "nbconvert_exporter": "python",
   "pygments_lexer": "ipython3",
   "version": "3.11.5"
  }
 },
 "nbformat": 4,
 "nbformat_minor": 4
}
